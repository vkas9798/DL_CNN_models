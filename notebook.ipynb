{
 "cells": [
  {
   "cell_type": "code",
   "execution_count": 5,
   "id": "58daffd4",
   "metadata": {},
   "outputs": [
    {
     "name": "stdout",
     "output_type": "stream",
     "text": [
      "2.6.2\n"
     ]
    }
   ],
   "source": [
    "import tensorflow as tf\n",
    "print(tf.__version__)"
   ]
  },
  {
   "cell_type": "code",
   "execution_count": 6,
   "id": "a1b286e4",
   "metadata": {},
   "outputs": [],
   "source": [
    "import numpy as np\n",
    "from tensorflow.keras.layers import Input, Lambda, Dense, Flatten\n",
    "from tensorflow.keras.models import Model, Sequential\n",
    "from tensorflow.keras.preprocessing import image\n",
    "from tensorflow.keras.preprocessing.image import ImageDataGenerator, load_img\n",
    "from glob import glob"
   ]
  },
  {
   "cell_type": "code",
   "execution_count": 7,
   "id": "a7d4f67b",
   "metadata": {},
   "outputs": [],
   "source": [
    "from tensorflow.keras.applications.vgg16 import VGG16\n",
    "from tensorflow.keras.applications.vgg19 import VGG19"
   ]
  },
  {
   "cell_type": "code",
   "execution_count": 8,
   "id": "f9b34715",
   "metadata": {},
   "outputs": [],
   "source": [
    "# Setting the image size\n",
    "image_size = [224,224]\n",
    "train_data_path = 'flowers/train'\n",
    "validation_data_path = 'flowers/validation'"
   ]
  },
  {
   "cell_type": "code",
   "execution_count": 9,
   "id": "d2542283",
   "metadata": {},
   "outputs": [
    {
     "name": "stdout",
     "output_type": "stream",
     "text": [
      "Downloading data from https://storage.googleapis.com/tensorflow/keras-applications/vgg16/vgg16_weights_tf_dim_ordering_tf_kernels_notop.h5\n",
      "58892288/58889256 [==============================] - 31s 1us/step\n",
      "58900480/58889256 [==============================] - 31s 1us/step\n"
     ]
    }
   ],
   "source": [
    "# Import VGG16\n",
    "vgg16 = VGG16(input_shape = image_size + [3],weights = 'imagenet',include_top=False)\n",
    "# include_top = False i.e we are not importing the dence layers of vgg16"
   ]
  },
  {
   "cell_type": "code",
   "execution_count": 10,
   "id": "cca8c07c",
   "metadata": {},
   "outputs": [
    {
     "name": "stdout",
     "output_type": "stream",
     "text": [
      "<keras.engine.input_layer.InputLayer object at 0x000001EC672D4668>\n",
      "<keras.layers.convolutional.Conv2D object at 0x000001EC68D4F128>\n",
      "<keras.layers.convolutional.Conv2D object at 0x000001EC68D4F668>\n",
      "<keras.layers.pooling.MaxPooling2D object at 0x000001EC68DA5C88>\n",
      "<keras.layers.convolutional.Conv2D object at 0x000001EC68DC5DD8>\n",
      "<keras.layers.convolutional.Conv2D object at 0x000001EC68DC9B00>\n",
      "<keras.layers.pooling.MaxPooling2D object at 0x000001EC68DCFFD0>\n",
      "<keras.layers.convolutional.Conv2D object at 0x000001EC68DC9D68>\n",
      "<keras.layers.convolutional.Conv2D object at 0x000001EC68DC5B70>\n",
      "<keras.layers.convolutional.Conv2D object at 0x000001EC68DEAB00>\n",
      "<keras.layers.pooling.MaxPooling2D object at 0x000001EC68DF1FD0>\n",
      "<keras.layers.convolutional.Conv2D object at 0x000001EC68D4F748>\n",
      "<keras.layers.convolutional.Conv2D object at 0x000001EC68DC9588>\n",
      "<keras.layers.convolutional.Conv2D object at 0x000001EC68DFD710>\n",
      "<keras.layers.pooling.MaxPooling2D object at 0x000001EC68DF64A8>\n",
      "<keras.layers.convolutional.Conv2D object at 0x000001EC68E03CC0>\n",
      "<keras.layers.convolutional.Conv2D object at 0x000001EC68E099E8>\n",
      "<keras.layers.convolutional.Conv2D object at 0x000001EC68E0EEB8>\n",
      "<keras.layers.pooling.MaxPooling2D object at 0x000001EC68E03828>\n"
     ]
    }
   ],
   "source": [
    "# Checking the imported layers\n",
    "for layer in vgg16.layers:\n",
    "    print(layer)"
   ]
  },
  {
   "cell_type": "code",
   "execution_count": 12,
   "id": "06a131f0",
   "metadata": {},
   "outputs": [
    {
     "name": "stdout",
     "output_type": "stream",
     "text": [
      "input_1 False\n",
      "block1_conv1 False\n",
      "block1_conv2 False\n",
      "block1_pool False\n",
      "block2_conv1 False\n",
      "block2_conv2 False\n",
      "block2_pool False\n",
      "block3_conv1 False\n",
      "block3_conv2 False\n",
      "block3_conv3 False\n",
      "block3_pool False\n",
      "block4_conv1 False\n",
      "block4_conv2 False\n",
      "block4_conv3 False\n",
      "block4_pool False\n",
      "block5_conv1 False\n",
      "block5_conv2 False\n",
      "block5_conv3 False\n",
      "block5_pool False\n"
     ]
    }
   ],
   "source": [
    "# we got the conv2d and pooling layers, lets fix/freeze the weights\n",
    "for layer in vgg16.layers:\n",
    "    layer.trainable = False\n",
    "    \n",
    "# checking whether the layers params are trainable or not\n",
    "for layer in vgg16.layers:\n",
    "    print(layer.name, layer.trainable)"
   ]
  },
  {
   "cell_type": "code",
   "execution_count": 13,
   "id": "5ac39501",
   "metadata": {},
   "outputs": [
    {
     "name": "stdout",
     "output_type": "stream",
     "text": [
      "Model: \"vgg16\"\n",
      "_________________________________________________________________\n",
      "Layer (type)                 Output Shape              Param #   \n",
      "=================================================================\n",
      "input_1 (InputLayer)         [(None, 224, 224, 3)]     0         \n",
      "_________________________________________________________________\n",
      "block1_conv1 (Conv2D)        (None, 224, 224, 64)      1792      \n",
      "_________________________________________________________________\n",
      "block1_conv2 (Conv2D)        (None, 224, 224, 64)      36928     \n",
      "_________________________________________________________________\n",
      "block1_pool (MaxPooling2D)   (None, 112, 112, 64)      0         \n",
      "_________________________________________________________________\n",
      "block2_conv1 (Conv2D)        (None, 112, 112, 128)     73856     \n",
      "_________________________________________________________________\n",
      "block2_conv2 (Conv2D)        (None, 112, 112, 128)     147584    \n",
      "_________________________________________________________________\n",
      "block2_pool (MaxPooling2D)   (None, 56, 56, 128)       0         \n",
      "_________________________________________________________________\n",
      "block3_conv1 (Conv2D)        (None, 56, 56, 256)       295168    \n",
      "_________________________________________________________________\n",
      "block3_conv2 (Conv2D)        (None, 56, 56, 256)       590080    \n",
      "_________________________________________________________________\n",
      "block3_conv3 (Conv2D)        (None, 56, 56, 256)       590080    \n",
      "_________________________________________________________________\n",
      "block3_pool (MaxPooling2D)   (None, 28, 28, 256)       0         \n",
      "_________________________________________________________________\n",
      "block4_conv1 (Conv2D)        (None, 28, 28, 512)       1180160   \n",
      "_________________________________________________________________\n",
      "block4_conv2 (Conv2D)        (None, 28, 28, 512)       2359808   \n",
      "_________________________________________________________________\n",
      "block4_conv3 (Conv2D)        (None, 28, 28, 512)       2359808   \n",
      "_________________________________________________________________\n",
      "block4_pool (MaxPooling2D)   (None, 14, 14, 512)       0         \n",
      "_________________________________________________________________\n",
      "block5_conv1 (Conv2D)        (None, 14, 14, 512)       2359808   \n",
      "_________________________________________________________________\n",
      "block5_conv2 (Conv2D)        (None, 14, 14, 512)       2359808   \n",
      "_________________________________________________________________\n",
      "block5_conv3 (Conv2D)        (None, 14, 14, 512)       2359808   \n",
      "_________________________________________________________________\n",
      "block5_pool (MaxPooling2D)   (None, 7, 7, 512)         0         \n",
      "=================================================================\n",
      "Total params: 14,714,688\n",
      "Trainable params: 0\n",
      "Non-trainable params: 14,714,688\n",
      "_________________________________________________________________\n"
     ]
    }
   ],
   "source": [
    "# checking the summary before moving forward\n",
    "vgg16.summary()"
   ]
  },
  {
   "cell_type": "code",
   "execution_count": null,
   "id": "dc3b2ff9",
   "metadata": {},
   "outputs": [],
   "source": []
  }
 ],
 "metadata": {
  "kernelspec": {
   "display_name": "Python 3",
   "language": "python",
   "name": "python3"
  },
  "language_info": {
   "codemirror_mode": {
    "name": "ipython",
    "version": 3
   },
   "file_extension": ".py",
   "mimetype": "text/x-python",
   "name": "python",
   "nbconvert_exporter": "python",
   "pygments_lexer": "ipython3",
   "version": "3.6.8"
  }
 },
 "nbformat": 4,
 "nbformat_minor": 5
}
